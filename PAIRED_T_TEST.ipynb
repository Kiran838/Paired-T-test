{
  "nbformat": 4,
  "nbformat_minor": 0,
  "metadata": {
    "colab": {
      "name": "PAIRED T-TEST.ipynb",
      "provenance": [],
      "collapsed_sections": []
    },
    "kernelspec": {
      "name": "python3",
      "display_name": "Python 3"
    },
    "language_info": {
      "name": "python"
    }
  },
  "cells": [
    {
      "cell_type": "code",
      "metadata": {
        "id": "rMHkm4rilXxx"
      },
      "source": [
        "import numpy as np\n",
        "import pandas as pd\n",
        "import scipy.stats as stats\n",
        "import math\n",
        "weight1=[25,30,28,35,28,34,26,29,30,26,28,32,31,30,45]\n",
        "weight2=weight1+stats.norm.rvs(scale=5,loc=-1.25,size=15)"
      ],
      "execution_count": null,
      "outputs": []
    },
    {
      "cell_type": "code",
      "metadata": {
        "colab": {
          "base_uri": "https://localhost:8080/"
        },
        "id": "T5i_nomNlwll",
        "outputId": "500208f6-b2ae-4d79-8bba-c42700901b02"
      },
      "source": [
        "print(weight1)\n",
        "print(weight2)"
      ],
      "execution_count": null,
      "outputs": [
        {
          "output_type": "stream",
          "text": [
            "[25, 30, 28, 35, 28, 34, 26, 29, 30, 26, 28, 32, 31, 30, 45]\n",
            "[18.23891908 22.45390365 19.24444089 37.34143254 26.6825542  31.43231483\n",
            " 15.56709898 30.60371382 20.96422528 31.46143042 25.0207527  40.29879732\n",
            " 31.91241148 29.40118416 42.93815806]\n"
          ],
          "name": "stdout"
        }
      ]
    },
    {
      "cell_type": "code",
      "metadata": {
        "id": "q9gtPUDnmB-J"
      },
      "source": [
        "Weight_df=pd.DataFrame({\"weight_10\":np.array(weight1),\n",
        "                        \"weight_20\":np.array(weight2),\n",
        "                        \"weight_change\":np.array(weight2)-np.array(weight1)})"
      ],
      "execution_count": null,
      "outputs": []
    },
    {
      "cell_type": "code",
      "metadata": {
        "colab": {
          "base_uri": "https://localhost:8080/",
          "height": 502
        },
        "id": "s5egUvVonOjE",
        "outputId": "e08f06f1-028e-46a3-dcbc-a3275bad12e6"
      },
      "source": [
        "Weight_df"
      ],
      "execution_count": null,
      "outputs": [
        {
          "output_type": "execute_result",
          "data": {
            "text/html": [
              "<div>\n",
              "<style scoped>\n",
              "    .dataframe tbody tr th:only-of-type {\n",
              "        vertical-align: middle;\n",
              "    }\n",
              "\n",
              "    .dataframe tbody tr th {\n",
              "        vertical-align: top;\n",
              "    }\n",
              "\n",
              "    .dataframe thead th {\n",
              "        text-align: right;\n",
              "    }\n",
              "</style>\n",
              "<table border=\"1\" class=\"dataframe\">\n",
              "  <thead>\n",
              "    <tr style=\"text-align: right;\">\n",
              "      <th></th>\n",
              "      <th>weight_10</th>\n",
              "      <th>weight_20</th>\n",
              "      <th>weight_change</th>\n",
              "    </tr>\n",
              "  </thead>\n",
              "  <tbody>\n",
              "    <tr>\n",
              "      <th>0</th>\n",
              "      <td>25</td>\n",
              "      <td>18.238919</td>\n",
              "      <td>-6.761081</td>\n",
              "    </tr>\n",
              "    <tr>\n",
              "      <th>1</th>\n",
              "      <td>30</td>\n",
              "      <td>22.453904</td>\n",
              "      <td>-7.546096</td>\n",
              "    </tr>\n",
              "    <tr>\n",
              "      <th>2</th>\n",
              "      <td>28</td>\n",
              "      <td>19.244441</td>\n",
              "      <td>-8.755559</td>\n",
              "    </tr>\n",
              "    <tr>\n",
              "      <th>3</th>\n",
              "      <td>35</td>\n",
              "      <td>37.341433</td>\n",
              "      <td>2.341433</td>\n",
              "    </tr>\n",
              "    <tr>\n",
              "      <th>4</th>\n",
              "      <td>28</td>\n",
              "      <td>26.682554</td>\n",
              "      <td>-1.317446</td>\n",
              "    </tr>\n",
              "    <tr>\n",
              "      <th>5</th>\n",
              "      <td>34</td>\n",
              "      <td>31.432315</td>\n",
              "      <td>-2.567685</td>\n",
              "    </tr>\n",
              "    <tr>\n",
              "      <th>6</th>\n",
              "      <td>26</td>\n",
              "      <td>15.567099</td>\n",
              "      <td>-10.432901</td>\n",
              "    </tr>\n",
              "    <tr>\n",
              "      <th>7</th>\n",
              "      <td>29</td>\n",
              "      <td>30.603714</td>\n",
              "      <td>1.603714</td>\n",
              "    </tr>\n",
              "    <tr>\n",
              "      <th>8</th>\n",
              "      <td>30</td>\n",
              "      <td>20.964225</td>\n",
              "      <td>-9.035775</td>\n",
              "    </tr>\n",
              "    <tr>\n",
              "      <th>9</th>\n",
              "      <td>26</td>\n",
              "      <td>31.461430</td>\n",
              "      <td>5.461430</td>\n",
              "    </tr>\n",
              "    <tr>\n",
              "      <th>10</th>\n",
              "      <td>28</td>\n",
              "      <td>25.020753</td>\n",
              "      <td>-2.979247</td>\n",
              "    </tr>\n",
              "    <tr>\n",
              "      <th>11</th>\n",
              "      <td>32</td>\n",
              "      <td>40.298797</td>\n",
              "      <td>8.298797</td>\n",
              "    </tr>\n",
              "    <tr>\n",
              "      <th>12</th>\n",
              "      <td>31</td>\n",
              "      <td>31.912411</td>\n",
              "      <td>0.912411</td>\n",
              "    </tr>\n",
              "    <tr>\n",
              "      <th>13</th>\n",
              "      <td>30</td>\n",
              "      <td>29.401184</td>\n",
              "      <td>-0.598816</td>\n",
              "    </tr>\n",
              "    <tr>\n",
              "      <th>14</th>\n",
              "      <td>45</td>\n",
              "      <td>42.938158</td>\n",
              "      <td>-2.061842</td>\n",
              "    </tr>\n",
              "  </tbody>\n",
              "</table>\n",
              "</div>"
            ],
            "text/plain": [
              "    weight_10  weight_20  weight_change\n",
              "0          25  18.238919      -6.761081\n",
              "1          30  22.453904      -7.546096\n",
              "2          28  19.244441      -8.755559\n",
              "3          35  37.341433       2.341433\n",
              "4          28  26.682554      -1.317446\n",
              "5          34  31.432315      -2.567685\n",
              "6          26  15.567099     -10.432901\n",
              "7          29  30.603714       1.603714\n",
              "8          30  20.964225      -9.035775\n",
              "9          26  31.461430       5.461430\n",
              "10         28  25.020753      -2.979247\n",
              "11         32  40.298797       8.298797\n",
              "12         31  31.912411       0.912411\n",
              "13         30  29.401184      -0.598816\n",
              "14         45  42.938158      -2.061842"
            ]
          },
          "metadata": {
            "tags": []
          },
          "execution_count": 6
        }
      ]
    },
    {
      "cell_type": "code",
      "metadata": {
        "id": "9x0EP0z5nUCV"
      },
      "source": [
        "_,p_value=stats.ttest_rel(a=weight1,b=weight2)"
      ],
      "execution_count": null,
      "outputs": []
    },
    {
      "cell_type": "code",
      "metadata": {
        "colab": {
          "base_uri": "https://localhost:8080/"
        },
        "id": "lfCoIGBEoEJP",
        "outputId": "2d224fdf-1ec4-42e1-b3e8-fef48f49272c"
      },
      "source": [
        "print(p_value)"
      ],
      "execution_count": null,
      "outputs": [
        {
          "output_type": "stream",
          "text": [
            "0.1392847335498285\n"
          ],
          "name": "stdout"
        }
      ]
    },
    {
      "cell_type": "code",
      "metadata": {
        "colab": {
          "base_uri": "https://localhost:8080/"
        },
        "id": "osPxsL6qoIh2",
        "outputId": "e4aefd4c-a8bc-41f9-cfd9-24c7054a401a"
      },
      "source": [
        "if p_value < 0.05:         #Alpha value = 0.05 OR 5%\n",
        "  print(\"Accepting null hypothesis\")  #Difference in age\n",
        "else:\n",
        "  print(\"Rejecting null hypothesis\")  #No difference in age"
      ],
      "execution_count": null,
      "outputs": [
        {
          "output_type": "stream",
          "text": [
            "Rejecting null hypothesis\n"
          ],
          "name": "stdout"
        }
      ]
    },
    {
      "cell_type": "markdown",
      "metadata": {
        "id": "pXtGTk6QoRHj"
      },
      "source": [
        "Hence we conclude that in this Paired T-Test we reject null hypothesis."
      ]
    }
  ]
}